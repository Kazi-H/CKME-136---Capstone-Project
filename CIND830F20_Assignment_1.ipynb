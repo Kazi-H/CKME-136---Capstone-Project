{
  "nbformat": 4,
  "nbformat_minor": 0,
  "metadata": {
    "kernelspec": {
      "name": "python3",
      "display_name": "Python 3",
      "language": "python"
    },
    "language_info": {
      "name": "python",
      "version": "3.7.6",
      "mimetype": "text/x-python",
      "codemirror_mode": {
        "name": "ipython",
        "version": 3
      },
      "pygments_lexer": "ipython3",
      "nbconvert_exporter": "python",
      "file_extension": ".py"
    },
    "nteract": {
      "version": "0.24.1"
    },
    "varInspector": {
      "cols": {
        "lenName": 16,
        "lenType": 16,
        "lenVar": 40
      },
      "kernels_config": {
        "python": {
          "delete_cmd_postfix": "",
          "delete_cmd_prefix": "del ",
          "library": "var_list.py",
          "varRefreshCmd": "print(var_dic_list())"
        },
        "r": {
          "delete_cmd_postfix": ") ",
          "delete_cmd_prefix": "rm(",
          "library": "var_list.r",
          "varRefreshCmd": "cat(var_dic_list()) "
        }
      },
      "types_to_exclude": [
        "module",
        "function",
        "builtin_function_or_method",
        "instance",
        "_Feature"
      ],
      "window_display": false
    },
    "colab": {
      "name": "CIND830F20 Assignment 1.ipynb",
      "provenance": [],
      "collapsed_sections": [],
      "include_colab_link": true
    }
  },
  "cells": [
    {
      "cell_type": "markdown",
      "metadata": {
        "id": "view-in-github",
        "colab_type": "text"
      },
      "source": [
        "<a href=\"https://colab.research.google.com/github/Kazi-H/CKME-136---Capstone-Project/blob/master/CIND830F20_Assignment_1.ipynb\" target=\"_parent\"><img src=\"https://colab.research.google.com/assets/colab-badge.svg\" alt=\"Open In Colab\"/></a>"
      ]
    },
    {
      "cell_type": "markdown",
      "metadata": {
        "id": "1_jnRCyq8y0t"
      },
      "source": [
        "## CIND830 - Python Programming for Data Science  \n",
        "### Assignment 1 (10% of the final grade) \n",
        "### Due on October 12, 2020 11:59 PM  "
      ]
    },
    {
      "cell_type": "markdown",
      "metadata": {
        "id": "8cmJYj668y0v"
      },
      "source": [
        "*****\n",
        "This is a Jupyter Notebook document that extends a simple formatting syntax for authoring HTML and PDF.\n",
        "Review [this](https://jupyter-notebook.readthedocs.io/en/stable/notebook.html) website for more details on using Juputer Notebook.\n",
        "\n",
        "Use the JupyterHub server on the Google Cloud Platform,\n",
        "provided by your designated instructor, for this assignment.\n",
        "Complete the assignment by inserting your Python code wherever you see the string\n",
        "\"#INSERT YOUR ANSWER HERE.\"\n",
        "\n",
        "When you click the `File` button, from the top navigation bar, then select `Export Notebook As ...`,\n",
        "a document (PDF or HTML format) will be generated that includes\n",
        " both the assignment content and the output of any embedded Python code chunks.\n",
        "\n",
        "Using [these](https://www.ryerson.ca/courses/students/tutorials/assignments/) guidelines,\n",
        "submit **both** the IPYNB and the exported file (PDF or HTML).\n",
        "Failing to submit both files will be subject to mark deduction."
      ]
    },
    {
      "cell_type": "markdown",
      "metadata": {
        "id": "IebaM-AN8y0y"
      },
      "source": [
        "*****"
      ]
    },
    {
      "cell_type": "markdown",
      "metadata": {
        "id": "oXWCMV-l8y01"
      },
      "source": [
        "### Question 1:\n",
        "Based on Canada's government [labour market indicators](https://www150.statcan.gc.ca/n1/pub/71-607-x/71-607-x2017001-eng.htm) in August 2020, the unemployment population in Toronto decreased to approximately 518 thousand in August of 2020 with a month-to-month change rate of -2.5 percent."
      ]
    },
    {
      "cell_type": "markdown",
      "metadata": {
        "id": "MtJF_iib8y02"
      },
      "source": [
        "*****"
      ]
    },
    {
      "cell_type": "markdown",
      "metadata": {
        "id": "U8EiOXpFAvO0"
      },
      "source": [
        "**a)** Create four variables:\n",
        "`cityName` as String (Toronto),\n",
        "`augPopulation` as Integer (518),\n",
        "`changeRate` as Floating-point number (-2.5%),\n",
        "and `decreasing` as Boolean (True)."
      ]
    },
    {
      "cell_type": "code",
      "metadata": {
        "pycharm": {
          "name": "#%%\n"
        },
        "id": "uDtTitw9AvO1",
        "trusted": true
      },
      "source": [
        "cityName = \"Toronto\"\n",
        "augPopulation = 518\n",
        "changeRate = -2.5/100\n",
        "decreasing = True\n",
        "\n",
        "cityName = str(cityName)\n",
        "augPopulation = int(augPopulation)\n",
        "changeRate = float(changeRate)\n",
        "decreasing = bool(decreasing)"
      ],
      "execution_count": null,
      "outputs": []
    },
    {
      "cell_type": "markdown",
      "metadata": {
        "id": "wJKsay7j8y1M"
      },
      "source": [
        "**b)** Print every literal and type of the variables in Q1.a in a separate new line."
      ]
    },
    {
      "cell_type": "code",
      "metadata": {
        "pycharm": {
          "name": "#%%\n"
        },
        "execution": {
          "iopub.status.busy": "2020-09-13T19:09:23.548Z",
          "iopub.execute_input": "2020-09-13T19:09:23.559Z",
          "iopub.status.idle": "2020-09-13T19:09:23.576Z",
          "shell.execute_reply": "2020-09-13T19:09:23.376Z"
        },
        "id": "0hNt4lfFAvO9",
        "outputId": "691128e6-ad57-4203-c71d-ddcd9ecc0756",
        "colab": {
          "base_uri": "https://localhost:8080/",
          "height": 167
        }
      },
      "source": [
        "print(cityName, \"\\n\", type(cityName))\n",
        "print(augPopulation, \"\\n\", type(augPopulation))\n",
        "print(changeRate, \"\\n\", type(changeRate))\n",
        "print(decreasing, \"\\n\", type(decreasing))"
      ],
      "execution_count": null,
      "outputs": [
        {
          "output_type": "stream",
          "text": [
            "Toronto \n",
            " <class 'str'>\n",
            "518.0 \n",
            " <class 'float'>\n",
            "-0.025 \n",
            " <class 'float'>\n",
            "True \n",
            " <class 'bool'>\n"
          ],
          "name": "stdout"
        }
      ]
    },
    {
      "cell_type": "markdown",
      "metadata": {
        "id": "dGqJtsN4AvPB"
      },
      "source": [
        "**c)** If the unemployment rate stays the same in September, find how many people would still be unemployed? Round off the answer to the nearest whole number."
      ]
    },
    {
      "cell_type": "code",
      "metadata": {
        "pycharm": {
          "name": "#%%\n"
        },
        "execution": {
          "iopub.status.busy": "2020-09-13T19:09:23.595Z",
          "iopub.execute_input": "2020-09-13T19:09:23.608Z",
          "iopub.status.idle": "2020-09-13T19:09:23.626Z",
          "shell.execute_reply": "2020-09-13T19:09:23.388Z"
        },
        "id": "RMxzgtfgAvPC",
        "outputId": "7215bb90-3a5a-4a09-906f-3016a307f675",
        "colab": {
          "base_uri": "https://localhost:8080/",
          "height": 36
        }
      },
      "source": [
        "sepPopulation = augPopulation*(1+changeRate)\n",
        "print(round(sepPopulation))"
      ],
      "execution_count": null,
      "outputs": [
        {
          "output_type": "stream",
          "text": [
            "505\n"
          ],
          "name": "stdout"
        }
      ]
    },
    {
      "cell_type": "markdown",
      "metadata": {
        "id": "EoRnQOTGAvPF"
      },
      "source": [
        "**d)** Find the difference between the unemployment population\n",
        "of August and that of September."
      ]
    },
    {
      "cell_type": "code",
      "metadata": {
        "pycharm": {
          "name": "#%%\n"
        },
        "execution": {
          "iopub.status.busy": "2020-09-13T19:09:23.644Z",
          "iopub.execute_input": "2020-09-13T19:09:23.659Z",
          "iopub.status.idle": "2020-09-13T19:09:23.690Z",
          "shell.execute_reply": "2020-09-13T19:09:23.399Z"
        },
        "id": "Le0jihDqAvPG",
        "outputId": "eaeee161-1cc5-4960-8e82-2ca925797497",
        "colab": {
          "base_uri": "https://localhost:8080/",
          "height": 36
        }
      },
      "source": [
        "diffPopulation = abs(augPopulation-round(sepPopulation))\n",
        "print(diffPopulation)"
      ],
      "execution_count": null,
      "outputs": [
        {
          "output_type": "stream",
          "text": [
            "13.0\n"
          ],
          "name": "stdout"
        }
      ]
    },
    {
      "cell_type": "markdown",
      "metadata": {
        "id": "0I_yun_xAvPJ"
      },
      "source": [
        "**e)** Convert the variable `augPopulation` to a floating-point number\n",
        "then print the new literal and type."
      ]
    },
    {
      "cell_type": "code",
      "metadata": {
        "pycharm": {
          "name": "#%%\n"
        },
        "id": "Fl3K5JEcAvPJ",
        "execution": {
          "iopub.status.busy": "2020-09-13T19:09:23.705Z",
          "iopub.execute_input": "2020-09-13T19:09:23.715Z",
          "iopub.status.idle": "2020-09-13T19:09:23.734Z",
          "shell.execute_reply": "2020-09-13T19:09:23.412Z"
        },
        "outputId": "1241aabb-26d0-4e34-e93c-e520d9e3d268",
        "colab": {
          "base_uri": "https://localhost:8080/",
          "height": 54
        }
      },
      "source": [
        "augPopulation = float(augPopulation)\n",
        "print(augPopulation)\n",
        "print(type(augPopulation))"
      ],
      "execution_count": null,
      "outputs": [
        {
          "output_type": "stream",
          "text": [
            "518.0\n",
            "<class 'float'>\n"
          ],
          "name": "stdout"
        }
      ]
    },
    {
      "cell_type": "markdown",
      "metadata": {
        "id": "-TN3MF0tAvPM"
      },
      "source": [
        "**f)** Given that `var1` is the `sepPopulation` variable rounded to the nearest whole number,\n",
        "and `var2` is the `changeRate` variable rounded to two decimal places.\n",
        "Print the following statement:\n",
        "The unemployment populaton might be `var1` thousand in September 2020, which is a `var2` month-to-month change rate."
      ]
    },
    {
      "cell_type": "code",
      "metadata": {
        "pycharm": {
          "name": "#%%\n"
        },
        "id": "bo1lneHnAvPM",
        "execution": {
          "iopub.status.busy": "2020-09-13T19:09:23.752Z",
          "iopub.execute_input": "2020-09-13T19:09:23.762Z",
          "iopub.status.idle": "2020-09-13T19:09:23.779Z",
          "shell.execute_reply": "2020-09-13T19:09:23.423Z"
        },
        "outputId": "32cf5950-6607-401f-e530-08e230993c14",
        "colab": {
          "base_uri": "https://localhost:8080/",
          "height": 36
        }
      },
      "source": [
        "var1 = round(sepPopulation)\n",
        "var2 = round(changeRate, 2)\n",
        "print(\"The unemployment populaton might be\", var1,\"thousand in September 2020, which is a\", var2,\"month-to-month change rate\")"
      ],
      "execution_count": null,
      "outputs": [
        {
          "output_type": "stream",
          "text": [
            "The unemployment populaton might be 505 thousand in September 2020, which is a -0.03 month-to-month change rate\n"
          ],
          "name": "stdout"
        }
      ]
    },
    {
      "cell_type": "markdown",
      "metadata": {
        "id": "Mv-a8-CV8y15"
      },
      "source": [
        "*****"
      ]
    },
    {
      "cell_type": "markdown",
      "metadata": {
        "id": "rSQwBVCTAvPO"
      },
      "source": [
        "### Question 2:\n",
        "Create a list of numbers called `nmbrs` starting at 0 and ending at 21, using the following code:"
      ]
    },
    {
      "cell_type": "code",
      "metadata": {
        "pycharm": {
          "name": "#%%\n"
        },
        "execution": {
          "shell.execute_reply": "2020-09-13T19:09:23.440Z",
          "iopub.status.busy": "2020-09-13T19:09:23.794Z",
          "iopub.execute_input": "2020-09-13T19:09:23.804Z",
          "iopub.status.idle": "2020-09-13T19:09:23.819Z"
        },
        "id": "DVOaFVZvAvPO",
        "outputId": "f9f2c47e-512f-4efe-a537-0d6da6156f1b",
        "colab": {
          "base_uri": "https://localhost:8080/",
          "height": 36
        }
      },
      "source": [
        "# a list of numbers from 0 to 21\n",
        "nmbrs = list(range(22))\n",
        "print(nmbrs, end = ' ')"
      ],
      "execution_count": null,
      "outputs": [
        {
          "output_type": "stream",
          "text": [
            "[0, 1, 2, 3, 4, 5, 6, 7, 8, 9, 10, 11, 12, 13, 14, 15, 16, 17, 18, 19, 20, 21] "
          ],
          "name": "stdout"
        }
      ]
    },
    {
      "cell_type": "markdown",
      "metadata": {
        "id": "mkFrWZ3kAvPQ"
      },
      "source": [
        "**a)**  Print the `nmbrs` list in reverse order using a simple `for` loop."
      ]
    },
    {
      "cell_type": "code",
      "metadata": {
        "pycharm": {
          "name": "#%%\n"
        },
        "execution": {
          "iopub.status.busy": "2020-09-13T19:09:23.833Z",
          "iopub.execute_input": "2020-09-13T19:09:23.844Z",
          "iopub.status.idle": "2020-09-13T19:09:23.861Z",
          "shell.execute_reply": "2020-09-13T19:09:23.453Z"
        },
        "id": "fP4sK_mKAvPR",
        "outputId": "63ee93e3-3bab-4b4c-c5e7-bb7e4818aeda",
        "colab": {
          "base_uri": "https://localhost:8080/",
          "height": 36
        }
      },
      "source": [
        "for nmbrs in range(22, 0, -1):\n",
        "  print(nmbrs - 1 , end = \" \")"
      ],
      "execution_count": null,
      "outputs": [
        {
          "output_type": "stream",
          "text": [
            "21 20 19 18 17 16 15 14 13 12 11 10 9 8 7 6 5 4 3 2 1 0 "
          ],
          "name": "stdout"
        }
      ]
    },
    {
      "cell_type": "markdown",
      "metadata": {
        "id": "M9eJ34NNAvPT"
      },
      "source": [
        "**b)**  Print only the numbers that are divisible by 7."
      ]
    },
    {
      "cell_type": "code",
      "metadata": {
        "pycharm": {
          "name": "#%%\n"
        },
        "execution": {
          "iopub.status.busy": "2020-09-13T19:09:23.875Z",
          "iopub.execute_input": "2020-09-13T19:09:23.884Z",
          "iopub.status.idle": "2020-09-13T19:09:23.900Z",
          "shell.execute_reply": "2020-09-13T19:09:23.464Z"
        },
        "id": "11nHxT13AvPT",
        "outputId": "c4a85dbe-826e-439b-c5b3-62332a6a6f5e",
        "colab": {
          "base_uri": "https://localhost:8080/",
          "height": 73
        }
      },
      "source": [
        "for nmbrs in range(0, 22, 1):\n",
        "  if((nmbrs%7 == 0) & (nmbrs>1)):\n",
        "   print(nmbrs)"
      ],
      "execution_count": null,
      "outputs": [
        {
          "output_type": "stream",
          "text": [
            "7\n",
            "14\n",
            "21\n"
          ],
          "name": "stdout"
        }
      ]
    },
    {
      "cell_type": "markdown",
      "metadata": {
        "id": "aJxoBDZMAvPU"
      },
      "source": [
        "**c)**  Print the odd numbers that are multiple of 3."
      ]
    },
    {
      "cell_type": "code",
      "metadata": {
        "pycharm": {
          "name": "#%%\n"
        },
        "execution": {
          "iopub.status.busy": "2020-09-13T19:09:23.916Z",
          "iopub.execute_input": "2020-09-13T19:09:23.925Z",
          "iopub.status.idle": "2020-09-13T19:09:23.939Z",
          "shell.execute_reply": "2020-09-13T19:09:23.475Z"
        },
        "id": "5WRgwMXxAvPV",
        "outputId": "a3acf544-8744-47cb-8d6b-3a5390efc451",
        "colab": {
          "base_uri": "https://localhost:8080/",
          "height": 92
        }
      },
      "source": [
        "for nmbrs in range(0, 22, 1):\n",
        "  if((nmbrs%3 == 0) & (nmbrs%2 == 1)):\n",
        "   print(nmbrs)"
      ],
      "execution_count": null,
      "outputs": [
        {
          "output_type": "stream",
          "text": [
            "3\n",
            "9\n",
            "15\n",
            "21\n"
          ],
          "name": "stdout"
        }
      ]
    },
    {
      "cell_type": "markdown",
      "metadata": {
        "id": "oDRF95yUAvPW"
      },
      "source": [
        "**d)**  Create another list called `nmrls` that includes the corresponding english names of the numbers in the `nmbrs` list, starting at `zero` and ending at `twenty-one`. \n",
        "Hint:  Import the [inflect](https://pypi.org/project/inflect/) library, then use the `number_to_words()` function to convert numbers into words."
      ]
    },
    {
      "cell_type": "code",
      "metadata": {
        "pycharm": {
          "name": "#%%\n"
        },
        "id": "aenj5klsAvPX",
        "trusted": true,
        "outputId": "23373917-d344-4ca2-dcea-f13e11149881",
        "colab": {
          "base_uri": "https://localhost:8080/",
          "height": 56
        }
      },
      "source": [
        "import inflect\n",
        "inflector = inflect.engine()\n",
        "nmbrs = list(range(22))\n",
        "nmrls = []\n",
        "for i in nmbrs:\n",
        "    if i<=9:\n",
        "        nmbrs = inflector.number_to_words(i, group =1) \n",
        "        nmrls.append(nmbrs)\n",
        "    else:\n",
        "        nmbrs = inflector.number_to_words(i, group =2) \n",
        "        nmrls.append(nmbrs)\n",
        "print(nmrls, end=\" \")"
      ],
      "execution_count": null,
      "outputs": [
        {
          "output_type": "stream",
          "text": [
            "['zero', 'one', 'two', 'three', 'four', 'five', 'six', 'seven', 'eight', 'nine', 'ten', 'eleven', 'twelve', 'thirteen', 'fourteen', 'fifteen', 'sixteen', 'seventeen', 'eighteen', 'nineteen', 'twenty', 'twenty-one'] "
          ],
          "name": "stdout"
        }
      ]
    },
    {
      "cell_type": "markdown",
      "metadata": {
        "pycharm": {
          "name": "#%% md\n"
        },
        "id": "Hhvp13mPAvPY"
      },
      "source": [
        "**e)**  Use a nested loop to count the letters\n",
        " of each element in the `nmrls` list, then print the\n",
        " element along with its number of letters."
      ]
    },
    {
      "cell_type": "code",
      "metadata": {
        "pycharm": {
          "name": "#%%\n"
        },
        "id": "kGY9g3LVAvPZ",
        "execution": {
          "iopub.status.busy": "2020-09-13T19:09:26.791Z",
          "iopub.execute_input": "2020-09-13T19:09:26.800Z",
          "iopub.status.idle": "2020-09-13T19:09:26.819Z",
          "shell.execute_reply": "2020-09-13T19:09:26.903Z"
        },
        "outputId": "891d8565-eec9-417a-d259-a99beee1f50c",
        "colab": {
          "base_uri": "https://localhost:8080/",
          "height": 428
        }
      },
      "source": [
        "i = nmrls\n",
        "for index in i:\n",
        "  for count in nmrls:\n",
        "    count = len(index)\n",
        "  print(index,\":\", count)"
      ],
      "execution_count": null,
      "outputs": [
        {
          "output_type": "stream",
          "text": [
            "zero : 4\n",
            "one : 3\n",
            "two : 3\n",
            "three : 5\n",
            "four : 4\n",
            "five : 4\n",
            "six : 3\n",
            "seven : 5\n",
            "eight : 5\n",
            "nine : 4\n",
            "ten : 3\n",
            "eleven : 6\n",
            "twelve : 6\n",
            "thirteen : 8\n",
            "fourteen : 8\n",
            "fifteen : 7\n",
            "sixteen : 7\n",
            "seventeen : 9\n",
            "eighteen : 8\n",
            "nineteen : 8\n",
            "twenty : 6\n",
            "twenty-one : 10\n"
          ],
          "name": "stdout"
        }
      ]
    },
    {
      "cell_type": "markdown",
      "metadata": {
        "id": "UQrBS7qSAvPb"
      },
      "source": [
        "**f)**  Print the elements in the `nmrls` list that\n",
        " have more than or equal to 7 letters and has either the letter 'o' or the letter 'g'."
      ]
    },
    {
      "cell_type": "code",
      "metadata": {
        "pycharm": {
          "name": "#%%\n"
        },
        "id": "O7rtsvqOAvPb",
        "execution": {
          "iopub.status.busy": "2020-09-13T19:09:26.833Z",
          "iopub.execute_input": "2020-09-13T19:09:26.841Z",
          "iopub.status.idle": "2020-09-13T19:09:26.858Z",
          "shell.execute_reply": "2020-09-13T19:09:26.908Z"
        },
        "outputId": "f2782bcb-551f-4b01-a211-d2330be90624",
        "colab": {
          "base_uri": "https://localhost:8080/",
          "height": 73
        }
      },
      "source": [
        "for i in nmrls:\n",
        "  if len(i) >= 7:\n",
        "    if \"o\" in i or \"g\" in i:\n",
        "      print(i)"
      ],
      "execution_count": null,
      "outputs": [
        {
          "output_type": "stream",
          "text": [
            "fourteen\n",
            "eighteen\n",
            "twenty-one\n"
          ],
          "name": "stdout"
        }
      ]
    },
    {
      "cell_type": "markdown",
      "metadata": {
        "id": "vmsqcE9E8y2z"
      },
      "source": [
        "*****"
      ]
    },
    {
      "cell_type": "markdown",
      "metadata": {
        "id": "O3jPbo4vAvPc"
      },
      "source": [
        "### Question 3:\n",
        "Write a program that accepts the lengths of three sides of a triangle as\n",
        "inputs, using the following code, then prints the type of the triangle according to the conditions listed below."
      ]
    },
    {
      "cell_type": "code",
      "metadata": {
        "pycharm": {
          "name": "#%%\n"
        },
        "id": "YTYiW9MeAvPd",
        "execution": {
          "iopub.status.busy": "2020-09-13T19:09:26.870Z",
          "iopub.execute_input": "2020-09-13T19:09:26.878Z",
          "iopub.status.idle": "2020-09-13T18:15:15.421Z",
          "shell.execute_reply": "2020-09-13T18:15:15.436Z"
        },
        "outputId": "58ac4703-9151-4e83-b82c-cab50c142745",
        "colab": {
          "base_uri": "https://localhost:8080/",
          "height": 73
        }
      },
      "source": [
        "# Acquiring Inputs\n",
        "side1 = float(input(\"Enter the first side: \"))\n",
        "side2 = float(input(\"Enter the second side: \"))\n",
        "side3 = float(input(\"Enter the third side: \"))"
      ],
      "execution_count": null,
      "outputs": [
        {
          "output_type": "stream",
          "text": [
            "Enter the first side: 1\n",
            "Enter the second side: 2\n",
            "Enter the third side: 3\n"
          ],
          "name": "stdout"
        }
      ]
    },
    {
      "cell_type": "markdown",
      "metadata": {
        "id": "b5J7kRLZAvPe"
      },
      "source": [
        "**a)**  Equilateral Triangle: If the triangle has three congruent sides."
      ]
    },
    {
      "cell_type": "code",
      "metadata": {
        "pycharm": {
          "name": "#%%\n"
        },
        "id": "bHHNxP0IAvPe",
        "execution": {
          "iopub.status.busy": "2020-09-13T18:15:18.907Z",
          "iopub.execute_input": "2020-09-13T18:15:18.919Z",
          "iopub.status.idle": "2020-09-13T18:15:18.944Z",
          "shell.execute_reply": "2020-09-13T18:15:18.954Z"
        },
        "outputId": "897ea7a2-cc1a-4f36-fc41-3631771c59ed",
        "colab": {
          "base_uri": "https://localhost:8080/",
          "height": 92
        }
      },
      "source": [
        "side1 = float(input(\"Enter the first side: \"))\n",
        "side2 = float(input(\"Enter the second side: \"))\n",
        "side3 = float(input(\"Enter the third side: \"))\n",
        "if side1 == side2 == side3:\n",
        "  print(\"This is an Equilateral Triangle\")\n",
        "else:\n",
        "    print(\"This is not an Equilateral Triangle\")"
      ],
      "execution_count": null,
      "outputs": [
        {
          "output_type": "stream",
          "text": [
            "Enter the first side: 3\n",
            "Enter the second side: 3\n",
            "Enter the third side: 3\n",
            "This is an Equilateral Triangle\n"
          ],
          "name": "stdout"
        }
      ]
    },
    {
      "cell_type": "code",
      "metadata": {
        "id": "dY_hAmkv2Dvn",
        "outputId": "95600efb-8ee3-4437-b919-014312436fdb",
        "colab": {
          "base_uri": "https://localhost:8080/",
          "height": 92
        }
      },
      "source": [
        "side1 = float(input(\"Enter the first side: \"))\n",
        "side2 = float(input(\"Enter the second side: \"))\n",
        "side3 = float(input(\"Enter the third side: \"))\n",
        "if side1 == side2 == side3:\n",
        "  print(\"This is an Equilateral Triangle\")\n",
        "else:\n",
        "    print(\"This is not an Equilateral Triangle\")"
      ],
      "execution_count": null,
      "outputs": [
        {
          "output_type": "stream",
          "text": [
            "Enter the first side: 1\n",
            "Enter the second side: 2\n",
            "Enter the third side: 3\n",
            "This is not an Equilateral Triangle\n"
          ],
          "name": "stdout"
        }
      ]
    },
    {
      "cell_type": "markdown",
      "metadata": {
        "id": "NduU2lxxAvPg"
      },
      "source": [
        "**b)**  Isosceles Triangle: If the triangle has two equal sides."
      ]
    },
    {
      "cell_type": "code",
      "metadata": {
        "pycharm": {
          "name": "#%%\n"
        },
        "id": "L1uEFS0GAvPg",
        "outputId": "903e57a6-e884-41de-c248-7ea54f33910d",
        "colab": {
          "base_uri": "https://localhost:8080/",
          "height": 92
        }
      },
      "source": [
        "side1 = float(input(\"Enter the first side: \"))\n",
        "side2 = float(input(\"Enter the second side: \"))\n",
        "side3 = float(input(\"Enter the third side: \"))\n",
        "if (side1 == side2 and side2 != side3) or (side2 == side3 and side3 != side1) or (side3 == side1 and side1 != side2):\n",
        "  print(\"This is an Isosceles Triangle\")\n",
        "else:\n",
        "    print(\"This is not an Isosceles Triangle\")"
      ],
      "execution_count": null,
      "outputs": [
        {
          "output_type": "stream",
          "text": [
            "Enter the first side: 2\n",
            "Enter the second side: 2\n",
            "Enter the third side: 3\n",
            "This is an Isosceles Triangle\n"
          ],
          "name": "stdout"
        }
      ]
    },
    {
      "cell_type": "code",
      "metadata": {
        "id": "5hdWEls_2ZmQ",
        "outputId": "1f8a3926-1d92-4d1b-c6a5-d89d36970d7b",
        "colab": {
          "base_uri": "https://localhost:8080/",
          "height": 92
        }
      },
      "source": [
        "side1 = float(input(\"Enter the first side: \"))\n",
        "side2 = float(input(\"Enter the second side: \"))\n",
        "side3 = float(input(\"Enter the third side: \"))\n",
        "if (side1 == side2 and side2 != side3) or (side2 == side3 and side3 != side1) or (side3 == side1 and side1 != side2):\n",
        "  print(\"This is an Isosceles Triangle\")\n",
        "else:\n",
        "    print(\"This is not an Isosceles Triangle\")"
      ],
      "execution_count": null,
      "outputs": [
        {
          "output_type": "stream",
          "text": [
            "Enter the first side: 1\n",
            "Enter the second side: 1\n",
            "Enter the third side: 1\n",
            "This is not an Isosceles Triangle\n"
          ],
          "name": "stdout"
        }
      ]
    },
    {
      "cell_type": "markdown",
      "metadata": {
        "id": "YR6-dOJOAvPi"
      },
      "source": [
        "**c)**  Scalene Triangle: If the triangle has no congruent sides, and\n",
        " each side have a different length."
      ]
    },
    {
      "cell_type": "code",
      "metadata": {
        "pycharm": {
          "name": "#%%\n"
        },
        "id": "PvQTbdc8AvPi",
        "execution": {
          "iopub.status.busy": "2020-09-13T18:15:23.189Z",
          "iopub.execute_input": "2020-09-13T18:15:23.202Z",
          "iopub.status.idle": "2020-09-13T18:15:23.226Z",
          "shell.execute_reply": "2020-09-13T18:15:23.237Z"
        },
        "outputId": "ad7cca27-4f5f-43f4-c77a-a3dfbcde753f",
        "colab": {
          "base_uri": "https://localhost:8080/",
          "height": 92
        }
      },
      "source": [
        "side1 = float(input(\"Enter the first side: \"))\n",
        "side2 = float(input(\"Enter the second side: \"))\n",
        "side3 = float(input(\"Enter the third side: \"))\n",
        "if side1 != side2 and side2 != side3 and side3 != side1:\n",
        "  print(\"This is a Scalene Triangle\")\n",
        "else:\n",
        "    print(\"This is not a Scalene Triangle\")"
      ],
      "execution_count": null,
      "outputs": [
        {
          "output_type": "stream",
          "text": [
            "Enter the first side: 1\n",
            "Enter the second side: 2\n",
            "Enter the third side: 3\n",
            "This is a Scalene Triangle\n"
          ],
          "name": "stdout"
        }
      ]
    },
    {
      "cell_type": "code",
      "metadata": {
        "id": "XM6ikYCT3R-M",
        "outputId": "b8fca5d8-7897-448f-98e6-993405f3cfb4",
        "colab": {
          "base_uri": "https://localhost:8080/",
          "height": 92
        }
      },
      "source": [
        "side1 = float(input(\"Enter the first side: \"))\n",
        "side2 = float(input(\"Enter the second side: \"))\n",
        "side3 = float(input(\"Enter the third side: \"))\n",
        "if side1 != side2 and side2 != side3 and side3 != side1:\n",
        "  print(\"This is a Scalene Triangle\")\n",
        "else:\n",
        "    print(\"This is not a Scalene Triangle\")"
      ],
      "execution_count": null,
      "outputs": [
        {
          "output_type": "stream",
          "text": [
            "Enter the first side: 1\n",
            "Enter the second side: 2\n",
            "Enter the third side: 1\n",
            "This is not a Scalene Triangle\n"
          ],
          "name": "stdout"
        }
      ]
    },
    {
      "cell_type": "markdown",
      "metadata": {
        "id": "l9l0sjUoAvPk"
      },
      "source": [
        "**d)**  Right Triangle: If the square of one side equals the sum of the squares of the other\n",
        "two sides."
      ]
    },
    {
      "cell_type": "code",
      "metadata": {
        "pycharm": {
          "name": "#%%\n"
        },
        "id": "cDqwtAjhAvPk",
        "execution": {
          "iopub.status.busy": "2020-09-13T18:15:25.041Z",
          "iopub.execute_input": "2020-09-13T18:15:25.053Z",
          "iopub.status.idle": "2020-09-13T18:15:25.077Z",
          "shell.execute_reply": "2020-09-13T18:15:25.090Z"
        },
        "outputId": "6f0da612-37e4-4168-b7ba-d3270eb0c02f",
        "colab": {
          "base_uri": "https://localhost:8080/",
          "height": 92
        }
      },
      "source": [
        "side1 = float(input(\"Enter the first side: \"))\n",
        "side2 = float(input(\"Enter the second side: \"))\n",
        "side3 = float(input(\"Enter the third side: \"))\n",
        "if (side1**2 + side2**2 == side3**2) or (side2**2 + side3**2 == side1**2) or (side3**2 + side1**2 == side2**2):\n",
        "  print(\"This is a Right Triangle\")\n",
        "else:\n",
        "  print(\"This is not a Right Triangle\")"
      ],
      "execution_count": null,
      "outputs": [
        {
          "output_type": "stream",
          "text": [
            "Enter the first side: 3\n",
            "Enter the second side: 4\n",
            "Enter the third side: 5\n",
            "This is a Right Triangle\n"
          ],
          "name": "stdout"
        }
      ]
    },
    {
      "cell_type": "code",
      "metadata": {
        "id": "FZhEabFO3n_5",
        "outputId": "d02d8b33-bd22-4216-b78f-bc3cd28c361a",
        "colab": {
          "base_uri": "https://localhost:8080/",
          "height": 92
        }
      },
      "source": [
        "side1 = float(input(\"Enter the first side: \"))\n",
        "side2 = float(input(\"Enter the second side: \"))\n",
        "side3 = float(input(\"Enter the third side: \"))\n",
        "if (side1**2 + side2**2 == side3**2) or (side2**2 + side3**2 == side1**2) or (side3**2 + side1**2 == side2**2):\n",
        "  print(\"This is a Right Triangle\")\n",
        "else:\n",
        "  print(\"This is not a Right Triangle\")"
      ],
      "execution_count": null,
      "outputs": [
        {
          "output_type": "stream",
          "text": [
            "Enter the first side: 1\n",
            "Enter the second side: 2\n",
            "Enter the third side: 3\n",
            "This is not a Right Triangle\n"
          ],
          "name": "stdout"
        }
      ]
    },
    {
      "cell_type": "markdown",
      "metadata": {
        "pycharm": {
          "name": "#%% md\n"
        },
        "id": "ICf1pcqGAvPm"
      },
      "source": [
        "**e)**  Combine your answers in Q3a, Q3b, Q3c, and Q3d and write one program that decides the type of a given triangle according to its sides' length. Notably, a right triangle might be isosceles or scalene. (e.g. A triangle with the following sides: 3, 4, and 5 cm is a right scalene triangle)"
      ]
    },
    {
      "cell_type": "code",
      "metadata": {
        "pycharm": {
          "name": "#%%\n"
        },
        "execution": {
          "iopub.status.busy": "2020-09-13T18:15:27.160Z",
          "iopub.execute_input": "2020-09-13T18:15:27.170Z",
          "iopub.status.idle": "2020-09-13T18:15:27.191Z",
          "shell.execute_reply": "2020-09-13T18:15:27.201Z"
        },
        "id": "GMPn_P6z8y3a",
        "outputId": "5432ad70-fa9d-494f-9c2e-c893d6bdedd2",
        "colab": {
          "base_uri": "https://localhost:8080/",
          "height": 92
        }
      },
      "source": [
        "side1 = float(input(\"Enter the first side: \"))\n",
        "side2 = float(input(\"Enter the second side: \"))\n",
        "side3 = float(input(\"Enter the third side: \"))\n",
        "if side1 == side2 == side3:\n",
        "  print(\"This is an Equilateral Triangle\")\n",
        "elif ((side1 == side2 and side2 != side3) or (side2 == side3 and side3 != side1) or (side3 == side1 and side1 != side2)) and ((side1**2 + side2**2 == side3**2) or (side2**2 + side3**2 == side1**2) or (side3**2 + side1**2 == side2**2)):\n",
        "  print(\"This is a Right Isosceles Triangle\")\n",
        "elif (side1 == side2 and side2 != side3) or (side2 == side3 and side3 != side1) or (side3 == side1 and side1 != side2):\n",
        "  print(\"This is an Isosceles Triangle\")\n",
        "elif (side1 != side2 != side3) and ((side1**2 + side2**2 == side3**2) or (side2**2 + side3**2 == side1**2) or (side3**2 + side1**2 == side2**2)):\n",
        "  print(\"This is a Right Scalene Triangle\")\n",
        "elif side1 != side2 != side3:\n",
        "  print(\"This is a Scalene Triangle\")"
      ],
      "execution_count": null,
      "outputs": [
        {
          "output_type": "stream",
          "text": [
            "Enter the first side: 3\n",
            "Enter the second side: 4\n",
            "Enter the third side: 5\n",
            "This is a Right Scalene Triangle\n"
          ],
          "name": "stdout"
        }
      ]
    },
    {
      "cell_type": "markdown",
      "metadata": {
        "pycharm": {
          "name": "#%% md\n"
        },
        "id": "x37DIl7i8y3g"
      },
      "source": [
        "#### This is the end of assignment 1"
      ]
    }
  ]
}